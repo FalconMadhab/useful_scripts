{
 "cells": [
  {
   "cell_type": "code",
   "execution_count": 1,
   "metadata": {},
   "outputs": [],
   "source": [
    "import pandas as pd"
   ]
  },
  {
   "cell_type": "code",
   "execution_count": 2,
   "metadata": {},
   "outputs": [
    {
     "name": "stdout",
     "output_type": "stream",
     "text": [
      "(2638, 8)\n",
      "   cattle1_108.jpg  1920  1080  1680  256  1907  528  animal\n",
      "0  cattle1_108.jpg  1920  1080   210  210   473  428  animal\n",
      "1  cattle1_108.jpg  1920  1080   719  278  1176  546  animal\n",
      "2  cattle1_108.jpg  1920  1080   145  205   377  362  animal\n",
      "3   cattle1_12.jpg  1920  1080  1347  234  1769  500  animal\n",
      "4   cattle1_12.jpg  1920  1080   747  174  1021  402  animal\n",
      "(595, 8)\n",
      "   person1_108.jpg  1920  1080   951  364  1733  946  person\n",
      "0  person1_108.jpg  1920  1080   802  374   935  565  person\n",
      "1   person1_12.jpg  1920  1080  1187  414  1821  849  person\n",
      "2   person1_12.jpg  1920  1080  1046  429  1217  602  person\n",
      "3  person1_120.jpg  1920  1080   874  350  1765  973  person\n",
      "4  person1_120.jpg  1920  1080   746  373   894  570  person\n"
     ]
    }
   ],
   "source": [
    "#tree_data=pd.read_csv('C:\\\\Users\\\\UKS\\\\wowexpai\\\\agriculture\\\\agro_data\\\\tree_annotation.csv')\n",
    "cattle_data=pd.read_csv('C:\\\\Users\\\\UKS\\\\wowexpai\\\\agriculture\\\\agro_data\\\\cattle_annotation.csv')\n",
    "person_data=pd.read_csv('C:\\\\Users\\\\UKS\\\\wowexpai\\\\agriculture\\\\agro_data\\\\person_annotation.csv')\n",
    "#print(tree_data.shape)\n",
    "#print(tree_data.head())   \n",
    "print(cattle_data.shape)\n",
    "print(cattle_data.head())   \n",
    "print(person_data.shape)\n",
    "print(person_data.head())   "
   ]
  },
  {
   "cell_type": "code",
   "execution_count": 6,
   "metadata": {},
   "outputs": [
    {
     "name": "stdout",
     "output_type": "stream",
     "text": [
      "(1145, 8)\n"
     ]
    }
   ],
   "source": [
    "data = pd.read_csv('output.csv')\n",
    "print(helmet_data.shape)"
   ]
  },
  {
   "cell_type": "code",
   "execution_count": 1,
   "metadata": {},
   "outputs": [
    {
     "data": {
      "text/plain": [
       "'C:\\\\Users\\\\Ninad Madhab\\\\Downloads'"
      ]
     },
     "execution_count": 1,
     "metadata": {},
     "output_type": "execute_result"
    }
   ],
   "source": [
    "pwd"
   ]
  },
  {
   "cell_type": "code",
   "execution_count": 5,
   "metadata": {},
   "outputs": [],
   "source": [
    "column=['filename','width','height','xmin','ymin','xmax','ymax','class']\n",
    "helmet_data.columns=column"
   ]
  },
  {
   "cell_type": "code",
   "execution_count": 3,
   "metadata": {},
   "outputs": [
    {
     "name": "stdout",
     "output_type": "stream",
     "text": [
      "(2638, 8)\n",
      "          filename  width  height  xmin  ymin  xmax  ymax   class\n",
      "0  cattle1_108.jpg   1920    1080   210   210   473   428  animal\n",
      "1  cattle1_108.jpg   1920    1080   719   278  1176   546  animal\n",
      "2  cattle1_108.jpg   1920    1080   145   205   377   362  animal\n",
      "3   cattle1_12.jpg   1920    1080  1347   234  1769   500  animal\n",
      "4   cattle1_12.jpg   1920    1080   747   174  1021   402  animal\n",
      "(595, 8)\n",
      "          filename  width  height  xmin  ymin  xmax  ymax   class\n",
      "0  person1_108.jpg   1920    1080   802   374   935   565  person\n",
      "1   person1_12.jpg   1920    1080  1187   414  1821   849  person\n",
      "2   person1_12.jpg   1920    1080  1046   429  1217   602  person\n",
      "3  person1_120.jpg   1920    1080   874   350  1765   973  person\n",
      "4  person1_120.jpg   1920    1080   746   373   894   570  person\n"
     ]
    }
   ],
   "source": [
    "column=['filename','width','height','xmin','ymin','xmax','ymax','class']\n",
    "cattle_data.columns=column\n",
    "person_data.columns=column  \n",
    "print(cattle_data.shape)\n",
    "print(cattle_data.head())   \n",
    "print(person_data.shape)\n",
    "print(person_data.head())   "
   ]
  },
  {
   "cell_type": "code",
   "execution_count": 11,
   "metadata": {},
   "outputs": [
    {
     "name": "stdout",
     "output_type": "stream",
     "text": [
      "  filename  width  height class  xmin  ymin  xmax  ymax\n",
      "0   10.jpg    310     231  Tree    76     1   101    16\n",
      "1   10.jpg    310     231  Tree   116     7   139    31\n",
      "2   10.jpg    310     231  Tree    79    99   102   131\n",
      "3   10.jpg    310     231  Tree    13   121    88   184\n",
      "4   10.jpg    310     231  Tree    33    73    77   116\n"
     ]
    }
   ],
   "source": [
    "#To change .tif to .jpg in 'filename' column\n",
    "def tif2jpg(row):\n",
    "    name,ext=row.split('.')\n",
    "    return name+'.jpg'\n",
    "tree_data['filename']=tree_data['filename'].apply(tif2jpg)\n",
    "print(tree_data.head())"
   ]
  },
  {
   "cell_type": "code",
   "execution_count": 4,
   "metadata": {},
   "outputs": [
    {
     "name": "stdout",
     "output_type": "stream",
     "text": [
      "(3233, 8)\n",
      "          filename  width  height  xmin  ymin  xmax  ymax   class\n",
      "0  person1_108.jpg   1920    1080   802   374   935   565  person\n",
      "1   person1_12.jpg   1920    1080  1187   414  1821   849  person\n",
      "2   person1_12.jpg   1920    1080  1046   429  1217   602  person\n",
      "3  person1_120.jpg   1920    1080   874   350  1765   973  person\n",
      "4  person1_120.jpg   1920    1080   746   373   894   570  person\n",
      "            filename  width  height  xmin  ymin  xmax  ymax   class\n",
      "3228  cattle7_96.jpg   1920    1080  1153   734  1443   956  animal\n",
      "3229  cattle7_96.jpg   1920    1080  1144   674  1200   728  animal\n",
      "3230  cattle7_96.jpg   1920    1080   763   537   814   587  animal\n",
      "3231  cattle7_96.jpg   1920    1080  1286   788  1445   976  animal\n",
      "3232  cattle7_96.jpg   1920    1080   369   469   452   562  animal\n"
     ]
    }
   ],
   "source": [
    "data=pd.concat([person_data,cattle_data],ignore_index =True)\n",
    "print(data.shape)\n",
    "print(data.head())\n",
    "print(data.tail())"
   ]
  },
  {
   "cell_type": "code",
   "execution_count": 2,
   "metadata": {},
   "outputs": [
    {
     "name": "stdout",
     "output_type": "stream",
     "text": [
      "(1183, 8)\n",
      "(946, 8)\n",
      "(237, 8)\n"
     ]
    }
   ],
   "source": [
    "data = pd.read_csv('annotations.csv')\n",
    "print(data.shape)\n",
    "train=data.sample(frac=0.8,random_state=200) #random state is a seed value\n",
    "test=data.drop(train.index)\n",
    "print(train.shape)\n",
    "print(test.shape)\n",
    "train.to_csv('train.csv',index=False)\n",
    "test.to_csv('test.csv',index=False)"
   ]
  },
  {
   "cell_type": "code",
   "execution_count": 17,
   "metadata": {},
   "outputs": [
    {
     "name": "stdout",
     "output_type": "stream",
     "text": [
      "C:\\Users\\UKS\\wowexpai\\agriculture\\NeonTreeEvaluation\\evaluation\\RGB\\MLBS_100_competition.tif\n",
      "C:\\Users\\UKS\\wowexpai\\agriculture\\NeonTreeEvaluation\\evaluation\\RGB\\MLBS_101_competition.tif\n",
      "C:\\Users\\UKS\\wowexpai\\agriculture\\NeonTreeEvaluation\\evaluation\\RGB\\MLBS_102_competition.tif\n",
      "C:\\Users\\UKS\\wowexpai\\agriculture\\NeonTreeEvaluation\\evaluation\\RGB\\MLBS_103_competition.tif\n",
      "C:\\Users\\UKS\\wowexpai\\agriculture\\NeonTreeEvaluation\\evaluation\\RGB\\MLBS_104_competition.tif\n",
      "C:\\Users\\UKS\\wowexpai\\agriculture\\NeonTreeEvaluation\\evaluation\\RGB\\MLBS_105_competition.tif\n",
      "C:\\Users\\UKS\\wowexpai\\agriculture\\NeonTreeEvaluation\\evaluation\\RGB\\MLBS_106_competition.tif\n",
      "C:\\Users\\UKS\\wowexpai\\agriculture\\NeonTreeEvaluation\\evaluation\\RGB\\MLBS_107_competition.tif\n",
      "C:\\Users\\UKS\\wowexpai\\agriculture\\NeonTreeEvaluation\\evaluation\\RGB\\MLBS_108_competition.tif\n",
      "C:\\Users\\UKS\\wowexpai\\agriculture\\NeonTreeEvaluation\\evaluation\\RGB\\MLBS_109_competition.tif\n",
      "C:\\Users\\UKS\\wowexpai\\agriculture\\NeonTreeEvaluation\\evaluation\\RGB\\MLBS_110_competition.tif\n",
      "C:\\Users\\UKS\\wowexpai\\agriculture\\NeonTreeEvaluation\\evaluation\\RGB\\MLBS_111_competition.tif\n",
      "C:\\Users\\UKS\\wowexpai\\agriculture\\NeonTreeEvaluation\\evaluation\\RGB\\MLBS_112_competition.tif\n",
      "C:\\Users\\UKS\\wowexpai\\agriculture\\NeonTreeEvaluation\\evaluation\\RGB\\MLBS_113_competition.tif\n",
      "C:\\Users\\UKS\\wowexpai\\agriculture\\NeonTreeEvaluation\\evaluation\\RGB\\MLBS_114_competition.tif\n",
      "C:\\Users\\UKS\\wowexpai\\agriculture\\NeonTreeEvaluation\\evaluation\\RGB\\MLBS_115_competition.tif\n",
      "C:\\Users\\UKS\\wowexpai\\agriculture\\NeonTreeEvaluation\\evaluation\\RGB\\MLBS_116_competition.tif\n",
      "C:\\Users\\UKS\\wowexpai\\agriculture\\NeonTreeEvaluation\\evaluation\\RGB\\MLBS_117_competition.tif\n",
      "C:\\Users\\UKS\\wowexpai\\agriculture\\NeonTreeEvaluation\\evaluation\\RGB\\MLBS_118_competition.tif\n",
      "C:\\Users\\UKS\\wowexpai\\agriculture\\NeonTreeEvaluation\\evaluation\\RGB\\MLBS_119_competition.tif\n",
      "C:\\Users\\UKS\\wowexpai\\agriculture\\NeonTreeEvaluation\\evaluation\\RGB\\MLBS_120_competition.tif\n",
      "C:\\Users\\UKS\\wowexpai\\agriculture\\NeonTreeEvaluation\\evaluation\\RGB\\MLBS_121_competition.tif\n",
      "C:\\Users\\UKS\\wowexpai\\agriculture\\NeonTreeEvaluation\\evaluation\\RGB\\MLBS_122_competition.tif\n",
      "C:\\Users\\UKS\\wowexpai\\agriculture\\NeonTreeEvaluation\\evaluation\\RGB\\MLBS_123_competition.tif\n",
      "C:\\Users\\UKS\\wowexpai\\agriculture\\NeonTreeEvaluation\\evaluation\\RGB\\MLBS_124_competition.tif\n",
      "C:\\Users\\UKS\\wowexpai\\agriculture\\NeonTreeEvaluation\\evaluation\\RGB\\MLBS_125_competition.tif\n",
      "C:\\Users\\UKS\\wowexpai\\agriculture\\NeonTreeEvaluation\\evaluation\\RGB\\MLBS_126_competition.tif\n",
      "C:\\Users\\UKS\\wowexpai\\agriculture\\NeonTreeEvaluation\\evaluation\\RGB\\MLBS_51_competition.tif\n",
      "C:\\Users\\UKS\\wowexpai\\agriculture\\NeonTreeEvaluation\\evaluation\\RGB\\MLBS_52_competition.tif\n",
      "C:\\Users\\UKS\\wowexpai\\agriculture\\NeonTreeEvaluation\\evaluation\\RGB\\MLBS_53_competition.tif\n",
      "C:\\Users\\UKS\\wowexpai\\agriculture\\NeonTreeEvaluation\\evaluation\\RGB\\MLBS_54_competition.tif\n",
      "C:\\Users\\UKS\\wowexpai\\agriculture\\NeonTreeEvaluation\\evaluation\\RGB\\MLBS_55_competition.tif\n",
      "C:\\Users\\UKS\\wowexpai\\agriculture\\NeonTreeEvaluation\\evaluation\\RGB\\MLBS_56_competition.tif\n",
      "C:\\Users\\UKS\\wowexpai\\agriculture\\NeonTreeEvaluation\\evaluation\\RGB\\MLBS_57_competition.tif\n",
      "C:\\Users\\UKS\\wowexpai\\agriculture\\NeonTreeEvaluation\\evaluation\\RGB\\MLBS_58_competition.tif\n",
      "C:\\Users\\UKS\\wowexpai\\agriculture\\NeonTreeEvaluation\\evaluation\\RGB\\MLBS_59_competition.tif\n",
      "C:\\Users\\UKS\\wowexpai\\agriculture\\NeonTreeEvaluation\\evaluation\\RGB\\MLBS_60_competition.tif\n",
      "C:\\Users\\UKS\\wowexpai\\agriculture\\NeonTreeEvaluation\\evaluation\\RGB\\MLBS_61_competition.tif\n",
      "C:\\Users\\UKS\\wowexpai\\agriculture\\NeonTreeEvaluation\\evaluation\\RGB\\MLBS_62_competition.tif\n",
      "C:\\Users\\UKS\\wowexpai\\agriculture\\NeonTreeEvaluation\\evaluation\\RGB\\MLBS_63_competition.tif\n",
      "C:\\Users\\UKS\\wowexpai\\agriculture\\NeonTreeEvaluation\\evaluation\\RGB\\MLBS_64_competition.tif\n",
      "C:\\Users\\UKS\\wowexpai\\agriculture\\NeonTreeEvaluation\\evaluation\\RGB\\MLBS_65_competition.tif\n",
      "C:\\Users\\UKS\\wowexpai\\agriculture\\NeonTreeEvaluation\\evaluation\\RGB\\MLBS_66_competition.tif\n",
      "C:\\Users\\UKS\\wowexpai\\agriculture\\NeonTreeEvaluation\\evaluation\\RGB\\MLBS_67_competition.tif\n",
      "C:\\Users\\UKS\\wowexpai\\agriculture\\NeonTreeEvaluation\\evaluation\\RGB\\MLBS_68_competition.tif\n",
      "C:\\Users\\UKS\\wowexpai\\agriculture\\NeonTreeEvaluation\\evaluation\\RGB\\MLBS_73_competition.tif\n",
      "C:\\Users\\UKS\\wowexpai\\agriculture\\NeonTreeEvaluation\\evaluation\\RGB\\MLBS_74_competition.tif\n",
      "C:\\Users\\UKS\\wowexpai\\agriculture\\NeonTreeEvaluation\\evaluation\\RGB\\MLBS_76_competition.tif\n",
      "C:\\Users\\UKS\\wowexpai\\agriculture\\NeonTreeEvaluation\\evaluation\\RGB\\MLBS_77_competition.tif\n",
      "C:\\Users\\UKS\\wowexpai\\agriculture\\NeonTreeEvaluation\\evaluation\\RGB\\MLBS_78_competition.tif\n",
      "C:\\Users\\UKS\\wowexpai\\agriculture\\NeonTreeEvaluation\\evaluation\\RGB\\MLBS_79_competition.tif\n",
      "C:\\Users\\UKS\\wowexpai\\agriculture\\NeonTreeEvaluation\\evaluation\\RGB\\MLBS_80_competition.tif\n",
      "C:\\Users\\UKS\\wowexpai\\agriculture\\NeonTreeEvaluation\\evaluation\\RGB\\MLBS_81_competition.tif\n",
      "C:\\Users\\UKS\\wowexpai\\agriculture\\NeonTreeEvaluation\\evaluation\\RGB\\MLBS_82_competition.tif\n",
      "C:\\Users\\UKS\\wowexpai\\agriculture\\NeonTreeEvaluation\\evaluation\\RGB\\MLBS_83_competition.tif\n",
      "C:\\Users\\UKS\\wowexpai\\agriculture\\NeonTreeEvaluation\\evaluation\\RGB\\MLBS_84_competition.tif\n",
      "C:\\Users\\UKS\\wowexpai\\agriculture\\NeonTreeEvaluation\\evaluation\\RGB\\MLBS_85_competition.tif\n",
      "C:\\Users\\UKS\\wowexpai\\agriculture\\NeonTreeEvaluation\\evaluation\\RGB\\MLBS_86_competition.tif\n",
      "C:\\Users\\UKS\\wowexpai\\agriculture\\NeonTreeEvaluation\\evaluation\\RGB\\MLBS_87_competition.tif\n",
      "C:\\Users\\UKS\\wowexpai\\agriculture\\NeonTreeEvaluation\\evaluation\\RGB\\MLBS_88_competition.tif\n",
      "C:\\Users\\UKS\\wowexpai\\agriculture\\NeonTreeEvaluation\\evaluation\\RGB\\MLBS_89_competition.tif\n",
      "C:\\Users\\UKS\\wowexpai\\agriculture\\NeonTreeEvaluation\\evaluation\\RGB\\MLBS_90_competition.tif\n",
      "C:\\Users\\UKS\\wowexpai\\agriculture\\NeonTreeEvaluation\\evaluation\\RGB\\MLBS_91_competition.tif\n",
      "C:\\Users\\UKS\\wowexpai\\agriculture\\NeonTreeEvaluation\\evaluation\\RGB\\MLBS_92_competition.tif\n",
      "C:\\Users\\UKS\\wowexpai\\agriculture\\NeonTreeEvaluation\\evaluation\\RGB\\MLBS_93_competition.tif\n",
      "C:\\Users\\UKS\\wowexpai\\agriculture\\NeonTreeEvaluation\\evaluation\\RGB\\MLBS_94_competition.tif\n",
      "C:\\Users\\UKS\\wowexpai\\agriculture\\NeonTreeEvaluation\\evaluation\\RGB\\MLBS_95_competition.tif\n",
      "C:\\Users\\UKS\\wowexpai\\agriculture\\NeonTreeEvaluation\\evaluation\\RGB\\MLBS_96_competition.tif\n",
      "C:\\Users\\UKS\\wowexpai\\agriculture\\NeonTreeEvaluation\\evaluation\\RGB\\MLBS_97_competition.tif\n",
      "C:\\Users\\UKS\\wowexpai\\agriculture\\NeonTreeEvaluation\\evaluation\\RGB\\MLBS_98_competition.tif\n",
      "C:\\Users\\UKS\\wowexpai\\agriculture\\NeonTreeEvaluation\\evaluation\\RGB\\MLBS_99_competition.tif\n"
     ]
    }
   ],
   "source": [
    "import os\n",
    "import cv2\n",
    "import glob\n",
    "img_dir='C:\\\\Users\\\\UKS\\\\wowexpai\\\\agriculture\\\\NeonTreeEvaluation\\\\evaluation\\\\RGB'\n",
    "img_paths=os.path.join(img_dir,\"*.tif\")\n",
    "img_files=glob.glob(img_paths)\n",
    "for img_file in img_files:\n",
    "    try:\n",
    "        filename=os.path.split(img_file)[-1]\n",
    "        name,ext=filename.split('.')\n",
    "        img=cv2.imread(img_file)\n",
    "        cv2.imwrite('C:\\\\Users\\\\UKS\\\\wowexpai\\\\agriculture\\\\agro_data\\\\images\\\\{}.jpg'.format(name),img)\n",
    "    except:\n",
    "        print(img_file)"
   ]
  },
  {
   "cell_type": "code",
   "execution_count": null,
   "metadata": {},
   "outputs": [],
   "source": []
  }
 ],
 "metadata": {
  "kernelspec": {
   "display_name": "Python 3",
   "language": "python",
   "name": "python3"
  },
  "language_info": {
   "codemirror_mode": {
    "name": "ipython",
    "version": 3
   },
   "file_extension": ".py",
   "mimetype": "text/x-python",
   "name": "python",
   "nbconvert_exporter": "python",
   "pygments_lexer": "ipython3",
   "version": "3.7.3"
  }
 },
 "nbformat": 4,
 "nbformat_minor": 4
}
